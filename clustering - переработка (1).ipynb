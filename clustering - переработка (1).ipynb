{
 "cells": [
  {
   "cell_type": "markdown",
   "metadata": {},
   "source": [
    "Each task that is proposed to be completed as part of the homework has a declared \"price\" in points. The maximum possible amount is 10 points, and together with the bonus assignment - 12 points. It is not necessary to complete all the tasks, only a part can be done. Most of the points expect you to write working Python code; sometimes you will need to write comments - for example, to compare several approaches to solve the same problem. Also you can add more cells for your convenience if you need."
   ]
  },
  {
   "cell_type": "markdown",
   "metadata": {},
   "source": [
    "This homework focuses on clustering. We will work with images of handwritten digits, learn how to cluster them using two different methods (hierarchical clustering and the 𝐾-means algorithm), evaluate the quality of the partition and choose the optimal number of clusters, as well as visualize intermediate results."
   ]
  },
  {
   "cell_type": "markdown",
   "metadata": {},
   "source": [
    "## 1. Loading data\n",
    "The data we will be working with is available in the scikit-learn library (`sklearn` module) in the `datasets` submodule via the `load_digits` function. The data contains 1,797 observations, each of which is 8×8 pixel image of a handwritten digit from 0 to 9. This is about the same amount of each digit (about 180).\n",
    "\n",
    "For convenience, every image expands to a 64 (8×8) row, so entire numpy array is 1797×64. The color intensity in each pixel is encoded with an integer from 0 to 16.\n",
    "\n",
    "In addition to images, their labels are also known. In this task, we will assume that the labels (as well as their amount) are unknown and try to group the data in such a way that the resulting clusters 'better match' the original ones. Possible options for determining the 'better match' are presented later."
   ]
  },
  {
   "cell_type": "markdown",
   "metadata": {},
   "source": [
    "**(0.25 points)** Load the images into `X` variable, and their labels into `y` variable."
   ]
  },
  {
   "cell_type": "code",
   "execution_count": 1,
   "metadata": {},
   "outputs": [
    {
     "name": "stdout",
     "output_type": "stream",
     "text": [
      "(1797, 64)\n"
     ]
    }
   ],
   "source": [
    "from sklearn.datasets import load_digits\n",
    "import numpy as np\n",
    "digits = load_digits()\n",
    "print(digits.data.shape)"
   ]
  },
  {
   "cell_type": "code",
   "execution_count": 2,
   "metadata": {},
   "outputs": [],
   "source": [
    "X,y = digits.data, digits.target"
   ]
  },
  {
   "cell_type": "code",
   "execution_count": 3,
   "metadata": {},
   "outputs": [],
   "source": [
    "assert X.shape == (1797, 64)\n",
    "assert y.shape == (1797,)"
   ]
  },
  {
   "cell_type": "markdown",
   "metadata": {},
   "source": [
    "**(0.5 points)** Visualize the first 10 images.\n",
    "\n",
    "- Arrange images on a grid rather than in a row. You may need the `subplot` and `imshow` functions from the `pyplot` module in the `matplotlib` library.\n",
    "- You will also need to reshape the images to 8×8.\n",
    "- Remove ticks and labels from both axes. The `xticks` and `yticks` functions or the `tick_params` function from `pyplot` can help you with this.\n",
    "- Make the output good sized with the `figure` function from `pyplot`."
   ]
  },
  {
   "cell_type": "code",
   "execution_count": 4,
   "metadata": {},
   "outputs": [
    {
     "data": {
      "text/plain": [
       "<function matplotlib.pyplot.show(close=None, block=None)>"
      ]
     },
     "execution_count": 4,
     "metadata": {},
     "output_type": "execute_result"
    },
    {
     "data": {
      "image/png": "[encoded data removed]",
      "text/plain": [
       "<Figure size 720x720 with 10 Axes>"
      ]
     },
     "metadata": {},
     "output_type": "display_data"
    }
   ],
   "source": [
    "import matplotlib.pyplot as plt\n",
    "#Figure size\n",
    "fig = plt.figure(figsize=(10,10))\n",
    "#Adjust the subplot\n",
    "fig.subplots_adjust(left=0, right=1,bottom=0, top=1,hspace=0.05, wspace=0.05)\n",
    "#For each ot the 64 images\n",
    "for i in range(10):\n",
    "    ax=fig.add_subplot(5,5,i + 1, xticks=[], yticks=[])\n",
    "    ax.imshow(digits.images[i], cmap=plt.cm.binary, interpolation ='nearest')\n",
    "    ax.set_title(f'Digit: {i}')\n",
    "    \n",
    "#Show the plot\n",
    "plt.show"
   ]
  },
  {
   "cell_type": "markdown",
   "metadata": {},
   "source": [
    "## 2. Clustering and quality evaluation"
   ]
  },
  {
   "cell_type": "markdown",
   "metadata": {},
   "source": [
    "**(2 points)** Implement the the KMeans algorithm. Use objective function $L = \\sum_{i=1}^{n}|x_{i}-Z_{A(x_{i})}|^{2}$, where $Z_{A(x_{i})}$ is the center of the cluster corresponding to $x_{i}$ object."
   ]
  },
  {
   "cell_type": "code",
   "execution_count": 5,
   "metadata": {},
   "outputs": [],
   "source": [
    "from sklearn.exceptions import NotFittedError\n",
    "from numpy.random import RandomState\n",
    "from sklearn.metrics.pairwise import pairwise_distances\n",
    "from sklearn.cluster import KMeans"
   ]
  },
  {
   "cell_type": "code",
   "execution_count": 6,
   "metadata": {},
   "outputs": [],
   "source": [
    "class CustomKMeans:\n",
    "    def __init__(self, n_clusters=2, max_iter=30, n_init=10, random_state=42):\n",
    "        '''K-Means clustering.\n",
    "\n",
    "        Args:\n",
    "            n_clusters: int, default=2\n",
    "                The number of clusters to be formed is also \n",
    "                the number of centroids to generate. \n",
    "            max_iter: int, default=300\n",
    "                Maximum number of iterations of the k-means algorithm for a\n",
    "                single run.\n",
    "            n_init: int, default=10\n",
    "                Number of time the k-means algorithm will be run with different\n",
    "                centroid seeds. The final results will be the best output of\n",
    "                n_init consecutive runs in terms of objective function.\n",
    "            random_state: int, default=42\n",
    "                Random state.\n",
    "        '''\n",
    "        self.n_clusters = n_clusters\n",
    "        self.n_init = n_init\n",
    "        self.max_iter = max_iter\n",
    "        self.random_state = RandomState(seed=random_state)\n",
    "        self.histoty = []\n",
    "\n",
    "    def calculate_distances_to_centroids(self, X, cluster_centers):\n",
    "        \"\"\"\n",
    "        Returns (n, c) matrix where the element at position (i, j) \n",
    "        is the distance from i-th object to j-th centroid.\"\"\"\n",
    "        calculate_distances_to_centroids = pairwise_distances(X, cluster_centers, metric='euclidean', n_jobs=1)\n",
    "        return calculate_distances_to_centroids\n",
    "\n",
    "    def update_centroids(self, X, nearest_clusters):\n",
    "        \"\"\"\n",
    "        Returns numpy array of shape (n_clusters, n_features) - \n",
    "        new clusters that are found by averaging objects belonging \n",
    "        to the corresponding cluster.\"\"\"\n",
    "        new_centroids = []\n",
    "        for i in range(self.n_clusters):\n",
    "            centroids = X[np.where(nearest_clusters == i)].mean(axis = 0)\n",
    "            new_centroids.append(centroids)\n",
    "        return np.array(new_centroids)\n",
    "\n",
    "    def fit(self, X):\n",
    "             \n",
    "        \"\"\"Fit the model.\n",
    "\n",
    "        Args:\n",
    "            X: numpy array of shape (n_samples, n_features)\n",
    "        \"\"\"\n",
    "        assert X.shape[0] >= self.n_clusters\n",
    "        # <your code>\n",
    "        row, col = X.shape\n",
    "        old_centroids = []   \n",
    "        for j in range(self.n_clusters):\n",
    "            RIndex = self.random_state.randint(row)\n",
    "            old_centroids.append(X[RIndex]) \n",
    "    \n",
    "        iteration = 0\n",
    "        cluster_centers = old_centroids\n",
    "        optimized = True\n",
    "        distances_to_centroids_SUM = 0\n",
    "        while optimized:\n",
    "            old_cluster_centers = cluster_centers\n",
    "            old_distances_to_centroids_SUM = distances_to_centroids_SUM\n",
    "            distances_to_centroids = self.calculate_distances_to_centroids(X, old_cluster_centers)\n",
    "            distances_to_centroids_SUM = np.sum(np.power(distances_to_centroids,2))\n",
    "            classification = distances_to_centroids.argmin(axis = 1)\n",
    "            cluster_centers = self.update_centroids(X, classification)\n",
    "            self.histoty.append(old_distances_to_centroids_SUM - distances_to_centroids_SUM)\n",
    "            if abs(old_distances_to_centroids_SUM - distances_to_centroids_SUM)<0.1:\n",
    "                optimized = False\n",
    "            iteration +=1\n",
    "            if iteration == self.max_iter:\n",
    "                optimized = False\n",
    "        self.iteration = iteration\n",
    "        self.cluster_centers_ = cluster_centers\n",
    "        return classification\n",
    "\n",
    "    def predict(self, X):\n",
    "        \"\"\"Predict classes.\n",
    "\n",
    "        Args:\n",
    "            X: numpy array of shape (n_samples, n_features)\n",
    "        Returns:\n",
    "            y: numpy array of shape (n_samples,)\n",
    "                Vector containing predicted cluster labels.\n",
    "        \"\"\"\n",
    "        if hasattr(self, 'cluster_centers_'):\n",
    "            distances_to_centroids = self.calculate_distances_to_centroids(X, self.cluster_centers_)\n",
    "            classification = distances_to_centroids.argmin(axis = 1)\n",
    "            return classification\n",
    "            # <your code>\n",
    "        else:\n",
    "            raise NotFittedError(\"CustomKMeans instance is not fitted yet\")"
   ]
  },
  {
   "cell_type": "markdown",
   "metadata": {},
   "source": [
    "**(1 points)** Get the `X` array partition into 10 clusters. Visualize the centers of clusters.\n",
    "- We will assume that the center of the cluster is average value of all observations belonging to the cluster.\n",
    "- The cluster centers should have the same shape as our observations (64). So you have to average the points across the rows."
   ]
  },
  {
   "cell_type": "code",
   "execution_count": 7,
   "metadata": {},
   "outputs": [
    {
     "data": {
      "text/plain": [
       "array([8, 0, 0, ..., 2, 4, 2])"
      ]
     },
     "execution_count": 7,
     "metadata": {},
     "output_type": "execute_result"
    }
   ],
   "source": [
    "C_KM = CustomKMeans(n_clusters=10,  max_iter=30, n_init=10)\n",
    "C_KM.fit(X)"
   ]
  },
  {
   "cell_type": "code",
   "execution_count": 8,
   "metadata": {},
   "outputs": [
    {
     "data": {
      "image/png": "[encoded data removed]",
      "text/plain": [
       "<Figure size 576x216 with 10 Axes>"
      ]
     },
     "metadata": {},
     "output_type": "display_data"
    }
   ],
   "source": [
    "fig, ax = plt.subplots(2, 5, figsize=(8, 3))\n",
    "centers = C_KM.cluster_centers_.reshape(10, 8, 8)\n",
    "\n",
    "for axi, center in zip(ax.flat, centers):\n",
    "    axi.set(xticks=[], yticks=[])\n",
    "    axi.imshow(center, interpolation='nearest', cmap=plt.cm.binary)"
   ]
  },
  {
   "cell_type": "code",
   "execution_count": 9,
   "metadata": {},
   "outputs": [],
   "source": [
    "custom_kmeans_labels = C_KM.predict(X)\n",
    "assert custom_kmeans_labels.shape == (1797,)"
   ]
  },
  {
   "cell_type": "markdown",
   "metadata": {},
   "source": [
    "**(0.5 points)** Experiment with `max_iter` and `n_init` parameters. Look at the range of values of the objective function, it's best values, at what parameters and how often they are achieved."
   ]
  },
  {
   "cell_type": "code",
   "execution_count": 10,
   "metadata": {},
   "outputs": [],
   "source": [
    "C_KM_2_1 = CustomKMeans(n_clusters=10,  max_iter=20, n_init=10)\n",
    "# Меняем max_iter c 30 на 20 n_init с 10 на 30\n",
    "C_KM_2_2 = CustomKMeans(n_clusters=10,  max_iter=20, n_init=30)\n",
    "# Меняем max_iter c 30 на 40 n_init не трогаем\n",
    "C_KM_2_3 = CustomKMeans(n_clusters=10,  max_iter=40, n_init=10)"
   ]
  },
  {
   "cell_type": "code",
   "execution_count": 11,
   "metadata": {},
   "outputs": [],
   "source": [
    "# max_iter c 30 до 20 n_init с 10 на 20\n",
    "C_KM_3_2 = CustomKMeans(n_clusters=10,  max_iter=20 , n_init=20)\n",
    "# max_iter c 30 до 40 n_init с 10 на 20\n",
    "C_KM_3_3 = CustomKMeans(n_clusters=10,  max_iter=50 , n_init=40)\n",
    "# max_iter не трогаем  n_init с 10 на 30\n",
    "C_KM_3_4 = CustomKMeans(n_clusters=10,  max_iter=30, n_init=30)"
   ]
  },
  {
   "cell_type": "code",
   "execution_count": 12,
   "metadata": {},
   "outputs": [
    {
     "data": {
      "text/plain": [
       "array([8, 0, 0, ..., 2, 4, 2])"
      ]
     },
     "execution_count": 12,
     "metadata": {},
     "output_type": "execute_result"
    }
   ],
   "source": [
    "C_KM_3_4.fit(X)"
   ]
  },
  {
   "cell_type": "code",
   "execution_count": 13,
   "metadata": {},
   "outputs": [
    {
     "data": {
      "text/plain": [
       "array([8, 0, 0, ..., 2, 4, 2])"
      ]
     },
     "execution_count": 13,
     "metadata": {},
     "output_type": "execute_result"
    }
   ],
   "source": [
    "\n",
    "C_KM_3_3.fit(X)"
   ]
  },
  {
   "cell_type": "code",
   "execution_count": 14,
   "metadata": {},
   "outputs": [
    {
     "data": {
      "text/plain": [
       "array([8, 0, 0, ..., 2, 4, 2])"
      ]
     },
     "execution_count": 14,
     "metadata": {},
     "output_type": "execute_result"
    }
   ],
   "source": [
    "C_KM_2_1.fit(X)"
   ]
  },
  {
   "cell_type": "code",
   "execution_count": 15,
   "metadata": {},
   "outputs": [
    {
     "data": {
      "image/png": "[encoded data removed]",
      "text/plain": [
       "<Figure size 576x216 with 10 Axes>"
      ]
     },
     "metadata": {},
     "output_type": "display_data"
    }
   ],
   "source": [
    "fig, ax = plt.subplots(2, 5, figsize=(8, 3))\n",
    "centers = C_KM_2_1.cluster_centers_.reshape(10, 8, 8)\n",
    "\n",
    "for axi, center in zip(ax.flat, centers):\n",
    "    axi.set(xticks=[], yticks=[])\n",
    "    axi.imshow(center, interpolation='nearest', cmap=plt.cm.binary)"
   ]
  },
  {
   "cell_type": "code",
   "execution_count": 16,
   "metadata": {},
   "outputs": [
    {
     "data": {
      "image/png": "[encoded data removed]",
      "text/plain": [
       "<Figure size 576x216 with 10 Axes>"
      ]
     },
     "metadata": {},
     "output_type": "display_data"
    }
   ],
   "source": [
    "fig, ax = plt.subplots(2, 5, figsize=(8, 3))\n",
    "centers = C_KM_3_3.cluster_centers_.reshape(10, 8, 8)\n",
    "\n",
    "for axi, center in zip(ax.flat, centers):\n",
    "    axi.set(xticks=[], yticks=[])\n",
    "    axi.imshow(center, interpolation='nearest', cmap=plt.cm.binary)"
   ]
  },
  {
   "cell_type": "markdown",
   "metadata": {},
   "source": [
    "Лично я не заметила особой разницы при изменении параметров, так как max_iter and n_init отвечают больше за обычное число итераций и их подходов, и не влияют на результаты модели. Больше смысла было бы при изменении параметра n_clusters."
   ]
  },
  {
   "cell_type": "markdown",
   "metadata": {},
   "source": [
    "Now we will use two popular algorithms: hierarchical clustering and $K$-means clustering. These and other algorithms are available in the `scikit-learn` module in the `cluster` submodule. Hierarchical clustering is called `AgglomerativeClustering`, and the $K$-means method is called `KMeans`.\n",
    "\n",
    "**(0.5 points)** Use each of the two methods: hierarchical clustering and KMeans. Get the `X` array partition into 10 clusters.\n",
    "\n",
    "- Note that `AgglomerativeClustering` does not have a `predict` method, so you can either use the `fit_predict` method or use the `fit` method and then look at the `labels_` attribute of the class instance.\n",
    "- Kmeans performs multiple runs (default 10) with random centers and then returns the best partition in terms of average distance within the clusters. You can increase the number of runs to improve the quality of predictions in the `i_init` parameter."
   ]
  },
  {
   "cell_type": "code",
   "execution_count": 17,
   "metadata": {},
   "outputs": [],
   "source": [
    "from sklearn.cluster import AgglomerativeClustering, KMeans\n",
    "from sklearn.model_selection import train_test_split\n",
    "from sklearn.metrics import accuracy_score"
   ]
  },
  {
   "cell_type": "code",
   "execution_count": 18,
   "metadata": {},
   "outputs": [
    {
     "data": {
      "text/plain": [
       "array([1, 0, 0, ..., 0, 0, 0])"
      ]
     },
     "execution_count": 18,
     "metadata": {},
     "output_type": "execute_result"
    }
   ],
   "source": [
    "#AgglomerativeClustering(Hierarchical clustering )\n",
    "clustering = AgglomerativeClustering().fit(X)\n",
    "clustering.fit_predict(X, y)"
   ]
  },
  {
   "cell_type": "code",
   "execution_count": 19,
   "metadata": {},
   "outputs": [
    {
     "data": {
      "text/plain": [
       "array([1, 0, 0, ..., 0, 0, 0])"
      ]
     },
     "execution_count": 19,
     "metadata": {},
     "output_type": "execute_result"
    }
   ],
   "source": [
    "clustering.labels_"
   ]
  },
  {
   "cell_type": "code",
   "execution_count": 20,
   "metadata": {},
   "outputs": [
    {
     "data": {
      "text/plain": [
       "(1797,)"
      ]
     },
     "execution_count": 20,
     "metadata": {},
     "output_type": "execute_result"
    }
   ],
   "source": [
    "clustering.labels_.shape"
   ]
  },
  {
   "cell_type": "code",
   "execution_count": 21,
   "metadata": {},
   "outputs": [],
   "source": [
    "#kmeans_labels\n",
    "from sklearn.cluster import KMeans"
   ]
  },
  {
   "cell_type": "code",
   "execution_count": 22,
   "metadata": {},
   "outputs": [],
   "source": [
    "kmeans = KMeans(n_clusters=10, random_state=0).fit(X)"
   ]
  },
  {
   "cell_type": "code",
   "execution_count": 23,
   "metadata": {},
   "outputs": [
    {
     "name": "stdout",
     "output_type": "stream",
     "text": [
      "[5 7 7 ... 7 3 3]\n"
     ]
    }
   ],
   "source": [
    "print(kmeans.labels_)"
   ]
  },
  {
   "cell_type": "code",
   "execution_count": 24,
   "metadata": {},
   "outputs": [
    {
     "data": {
      "text/plain": [
       "(1797,)"
      ]
     },
     "execution_count": 24,
     "metadata": {},
     "output_type": "execute_result"
    }
   ],
   "source": [
    "kmeans.labels_.shape"
   ]
  },
  {
   "cell_type": "code",
   "execution_count": 25,
   "metadata": {},
   "outputs": [],
   "source": [
    "hierarchical_labels = clustering.labels_\n",
    "kmeans_labels = kmeans.labels_"
   ]
  },
  {
   "cell_type": "code",
   "execution_count": 26,
   "metadata": {},
   "outputs": [],
   "source": [
    "assert hierarchical_labels.shape == (1797,)\n",
    "assert kmeans_labels.shape == (1797,)"
   ]
  },
  {
   "cell_type": "markdown",
   "metadata": {},
   "source": [
    "**(0.5 points)** Visualize the centers of clusters obtained by both methods."
   ]
  },
  {
   "cell_type": "code",
   "execution_count": 27,
   "metadata": {},
   "outputs": [],
   "source": [
    "import matplotlib.pyplot as plt\n",
    "from sklearn.neighbors import NearestCentroid"
   ]
  },
  {
   "cell_type": "code",
   "execution_count": 28,
   "metadata": {},
   "outputs": [],
   "source": [
    "clf1 = NearestCentroid()\n",
    "clf1.fit(X, kmeans_labels)\n",
    "centers1=clf1.centroids_"
   ]
  },
  {
   "cell_type": "code",
   "execution_count": 29,
   "metadata": {},
   "outputs": [
    {
     "data": {
      "image/png": "[encoded data removed]",
      "text/plain": [
       "<Figure size 576x216 with 10 Axes>"
      ]
     },
     "metadata": {},
     "output_type": "display_data"
    }
   ],
   "source": [
    "#Kmeans \n",
    "fig, ax = plt.subplots(2, 5, figsize=(8, 3))\n",
    "centers1 = kmeans.cluster_centers_.reshape(10, 8, 8)\n",
    "\n",
    "for axi, center in zip(ax.flat, centers1):\n",
    "    axi.set(xticks=[], yticks=[])\n",
    "    axi.imshow(center, interpolation='nearest', cmap=plt.cm.binary)"
   ]
  },
  {
   "cell_type": "code",
   "execution_count": 30,
   "metadata": {},
   "outputs": [],
   "source": [
    "#hierarchical_labels \n",
    "clf2 = NearestCentroid()\n",
    "clf2.fit(X, hierarchical_labels)\n",
    "centers2=clf2.centroids_"
   ]
  },
  {
   "cell_type": "code",
   "execution_count": 31,
   "metadata": {},
   "outputs": [
    {
     "data": {
      "image/png": "[encoded data removed]",
      "text/plain": [
       "<Figure size 2160x2160 with 2 Axes>"
      ]
     },
     "metadata": {
      "needs_background": "light"
     },
     "output_type": "display_data"
    }
   ],
   "source": [
    "fig, ax = plt.subplots(figsize=(30, 30))\n",
    "for i in range(len(centers2)):\n",
    "    plt.subplot(1, 10, i + 1)\n",
    "    image = centers[i]\n",
    "    image = image.reshape(8,8)\n",
    "    plt.imshow(image, cmap = 'cividis')\n",
    "    plt.axis('off')\n",
    "plt.show()"
   ]
  },
  {
   "cell_type": "markdown",
   "metadata": {},
   "source": [
    "In a situation where the true number of classes is unknown, we can select it by maximazing some metric.\n",
    "\n",
    "When we can set some distance function between our observations, we can consider the `silhouette` distance as a function of measuring the quality of the clustering. Let's show how it is calculated:"
   ]
  },
  {
   "cell_type": "markdown",
   "metadata": {},
   "source": [
    "Let $X$ – set of observations, $M \\subset X$ – one of the clusters obtained as a result of clustering process, $\\rho$ – some metric on $X$. Let's choose one observation $x \\in M$. Denote $a(x)$ as the average distance from $x$ to  $x'$ points from the same cluster:\n",
    "$$\n",
    "a(x) = \\frac{1}{|M| - 1} \\sum_{x' \\in M,\\, x' \\ne x} \\rho(x,\\, x')\n",
    "$$\n",
    "\n",
    "Denote $b(x)$ as minimun of average distances from $x$ to $x''$ from some other cluster $N$:\n",
    "$$\n",
    "b(x) = \\min_{N \\ne M} \\frac{1}{|N|} \\sum_{x'' \\in N} \\rho(x,\\, x'')\n",
    "$$\n",
    "\n",
    "The silhouette is difference between a(x) and b(x), normalized to $[-1, \\, 1]$ and averaged over all observations:\n",
    "$$\n",
    "\\frac{1}{|X|} \\sum_{x \\in X} \\frac{b(x) - a(x)}{\\max(a(x),\\, b(x))}\n",
    "$$\n",
    "\n",
    "The implementation of this metric in the `scikit-learn` is the `silhouette_score` function from the `metrics` submidule."
   ]
  },
  {
   "cell_type": "markdown",
   "metadata": {},
   "source": [
    "**(0.75 point)** For each $K$ between 2 and 20 inclusive, partition of the array $X$ into $K$ clusters using both methods. Calculate the silhouette score and visualize it for both methods on the same plot ($K$ on the $x$ axis and silhouette score on the $y$ axis). Sign the axes and make a legend."
   ]
  },
  {
   "cell_type": "code",
   "execution_count": 32,
   "metadata": {},
   "outputs": [],
   "source": [
    "from sklearn.metrics import silhouette_samples, silhouette_score"
   ]
  },
  {
   "cell_type": "code",
   "execution_count": 33,
   "metadata": {},
   "outputs": [
    {
     "name": "stdout",
     "output_type": "stream",
     "text": [
      "Silhouette_avg on AgglomerativeClustering is 0.11674033985112256\n",
      "Sample_silhouette_values on AgglomerativeClustering are [ 0.17822806  0.09277471  0.02078159 ... -0.0211315  -0.00861084\n",
      " -0.02105985]\n"
     ]
    }
   ],
   "source": [
    "#the silhouette score calculate - AgglomerativeClustering\n",
    "silhouette_avg = silhouette_score(X, hierarchical_labels)\n",
    "print(f'Silhouette_avg on AgglomerativeClustering is {silhouette_avg}')\n",
    "sample_silhouette_values = silhouette_samples(X, hierarchical_labels)\n",
    "print(f'Sample_silhouette_values on AgglomerativeClustering are {sample_silhouette_values}')"
   ]
  },
  {
   "cell_type": "code",
   "execution_count": 34,
   "metadata": {},
   "outputs": [
    {
     "name": "stdout",
     "output_type": "stream",
     "text": [
      "For n_clusters = 2, silhouette score is 0.11832841100655983)\n",
      "For n_clusters = 3, silhouette score is 0.12649498093440542)\n",
      "For n_clusters = 4, silhouette score is 0.12274809783724604)\n",
      "For n_clusters = 5, silhouette score is 0.13605384764819892)\n",
      "For n_clusters = 6, silhouette score is 0.15159087166747598)\n",
      "For n_clusters = 7, silhouette score is 0.16402593291003514)\n",
      "For n_clusters = 8, silhouette score is 0.17840155523528725)\n",
      "For n_clusters = 9, silhouette score is 0.18925821286715278)\n",
      "For n_clusters = 10, silhouette score is 0.1824884181484339)\n",
      "For n_clusters = 11, silhouette score is 0.1833430689445117)\n",
      "For n_clusters = 12, silhouette score is 0.18457052554415576)\n",
      "For n_clusters = 13, silhouette score is 0.18508878785802915)\n",
      "For n_clusters = 14, silhouette score is 0.18576421993534437)\n",
      "For n_clusters = 15, silhouette score is 0.18633462866695946)\n",
      "For n_clusters = 16, silhouette score is 0.17373331646584103)\n",
      "For n_clusters = 17, silhouette score is 0.17770905984048924)\n",
      "For n_clusters = 18, silhouette score is 0.16935277377789507)\n",
      "For n_clusters = 19, silhouette score is 0.17769784946922484)\n",
      "For n_clusters = 20, silhouette score is 0.17146097629741197)\n"
     ]
    }
   ],
   "source": [
    "score_ = []\n",
    "N_1 = []\n",
    "for n_clusters in range(2, 21):\n",
    "    clusterer = KMeans(n_clusters=n_clusters).fit(X)\n",
    "    preds = clusterer.predict(X)\n",
    "    centers = clusterer.cluster_centers_\n",
    "\n",
    "    score = silhouette_score (X, preds, metric='euclidean')\n",
    "    print (\"For n_clusters = {}, silhouette score is {})\".format(n_clusters, score))\n",
    "    score_.append(score)\n",
    "    N_1.append(n_clusters)"
   ]
  },
  {
   "cell_type": "code",
   "execution_count": 35,
   "metadata": {},
   "outputs": [
    {
     "data": {
      "text/plain": [
       "<matplotlib.collections.PathCollection at 0x7f94e1162f70>"
      ]
     },
     "execution_count": 35,
     "metadata": {},
     "output_type": "execute_result"
    },
    {
     "data": {
      "image/png": "[encoded data removed]",
      "text/plain": [
       "<Figure size 432x288 with 1 Axes>"
      ]
     },
     "metadata": {
      "needs_background": "light"
     },
     "output_type": "display_data"
    }
   ],
   "source": [
    "plt.xlabel('Количество кластеров')\n",
    "plt.ylabel('score')\n",
    "plt.scatter(x=N_1, c='r', y=score_)"
   ]
  },
  {
   "cell_type": "code",
   "execution_count": 36,
   "metadata": {},
   "outputs": [
    {
     "name": "stdout",
     "output_type": "stream",
     "text": [
      "Silhouette_avg on Kmeans is 0.18251916424600556\n",
      "Sample_silhouette_values on Kmeans are [ 0.42255296  0.18127659  0.14499037 ...  0.1622777   0.09092881\n",
      " -0.02908234]\n"
     ]
    }
   ],
   "source": [
    "#the silhouette score calculate - KMeans\n",
    "silhouette_avg1 = silhouette_score(X, kmeans_labels)\n",
    "print(f'Silhouette_avg on Kmeans is {silhouette_avg1}')\n",
    "sample_silhouette_values1 = silhouette_samples(X, kmeans_labels)\n",
    "print(f'Sample_silhouette_values on Kmeans are {sample_silhouette_values1}')"
   ]
  },
  {
   "cell_type": "code",
   "execution_count": 37,
   "metadata": {},
   "outputs": [
    {
     "name": "stdout",
     "output_type": "stream",
     "text": [
      "For n_clusters = 2, silhouette score is 0.11674033985112256)\n",
      "For n_clusters = 3, silhouette score is 0.11188954666963648)\n",
      "For n_clusters = 4, silhouette score is 0.10895989445239453)\n",
      "For n_clusters = 5, silhouette score is 0.11888125787404626)\n",
      "For n_clusters = 6, silhouette score is 0.13701122727669246)\n",
      "For n_clusters = 7, silhouette score is 0.15368571066948947)\n",
      "For n_clusters = 8, silhouette score is 0.17056308645095428)\n",
      "For n_clusters = 9, silhouette score is 0.18061975703867697)\n",
      "For n_clusters = 10, silhouette score is 0.17849659940596496)\n",
      "For n_clusters = 11, silhouette score is 0.17637337987696772)\n",
      "For n_clusters = 12, silhouette score is 0.17362319379744087)\n",
      "For n_clusters = 13, silhouette score is 0.1726407155529682)\n",
      "For n_clusters = 14, silhouette score is 0.17670992249010575)\n",
      "For n_clusters = 15, silhouette score is 0.17633457435967023)\n",
      "For n_clusters = 16, silhouette score is 0.17695214651125427)\n",
      "For n_clusters = 17, silhouette score is 0.17953047348045556)\n",
      "For n_clusters = 18, silhouette score is 0.1669829287095671)\n",
      "For n_clusters = 19, silhouette score is 0.16585394177607718)\n",
      "For n_clusters = 20, silhouette score is 0.1686039123227311)\n"
     ]
    }
   ],
   "source": [
    "score_ = []\n",
    "N_2 = []\n",
    "for n_clusters in range(2, 21):\n",
    "    preds = AgglomerativeClustering(n_clusters=n_clusters).fit_predict(X)\n",
    "    centers = clusterer.cluster_centers_\n",
    "\n",
    "    score = silhouette_score (X, preds, metric='euclidean')\n",
    "    print (\"For n_clusters = {}, silhouette score is {})\".format(n_clusters, score))\n",
    "    score_.append(score)\n",
    "    N_2.append(n_clusters)"
   ]
  },
  {
   "cell_type": "code",
   "execution_count": 38,
   "metadata": {},
   "outputs": [
    {
     "data": {
      "text/plain": [
       "<matplotlib.collections.PathCollection at 0x7f94e1128ca0>"
      ]
     },
     "execution_count": 38,
     "metadata": {},
     "output_type": "execute_result"
    },
    {
     "data": {
      "image/png": "[encoded data removed]",
      "text/plain": [
       "<Figure size 432x288 with 1 Axes>"
      ]
     },
     "metadata": {
      "needs_background": "light"
     },
     "output_type": "display_data"
    }
   ],
   "source": [
    "#visualize it\n",
    "plt.xlabel('Количество кластеров')\n",
    "plt.ylabel('score')\n",
    "plt.scatter(x=N_2, c='b', y=score_)"
   ]
  },
  {
   "cell_type": "markdown",
   "metadata": {},
   "source": [
    "When we know the true clustering labels, the clustering result can be compared to them using measures such as `homogeneity`, `completeness` and their harmonic mean - $V$-score. The definitions of these quantities are rather bulky and are based on the [entropy of the probability distribution](https://ru.wikipedia.org/wiki/Информационная_энтропия). Details are given in [this article](http://aclweb.org/anthology/D/D07/D07-1043.pdf). In practice, it's enough to know that `homogeneity`, `completeness` and $V$-score are in the range from 0 and 1, and the more, the better.\n",
    "\n",
    "Since we know what digit each image is (`y` array), we can compare the clustering results to it using the measures listed above."
   ]
  },
  {
   "cell_type": "markdown",
   "metadata": {},
   "source": [
    "**(0.5 points)** Repeat the previous task using $V$-measure instead of silhouette."
   ]
  },
  {
   "cell_type": "code",
   "execution_count": 39,
   "metadata": {},
   "outputs": [],
   "source": [
    "#𝑉 -measure instead of silhouette\n",
    "from sklearn.metrics import v_measure_score as VV"
   ]
  },
  {
   "cell_type": "code",
   "execution_count": 40,
   "metadata": {},
   "outputs": [
    {
     "name": "stdout",
     "output_type": "stream",
     "text": [
      "For n_clusters = 2, VV score is 0.36001205373704537)\n",
      "For n_clusters = 3, VV score is 0.40401655029571565)\n",
      "For n_clusters = 4, VV score is 0.45354248946493353)\n",
      "For n_clusters = 5, VV score is 0.5830002606917807)\n",
      "For n_clusters = 6, VV score is 0.5968427145921994)\n",
      "For n_clusters = 7, VV score is 0.6501966190385284)\n",
      "For n_clusters = 8, VV score is 0.7166185830750348)\n",
      "For n_clusters = 9, VV score is 0.7180865213337131)\n",
      "For n_clusters = 10, VV score is 0.7405741684855038)\n",
      "For n_clusters = 11, VV score is 0.7741667889371413)\n",
      "For n_clusters = 12, VV score is 0.7669760166606313)\n",
      "For n_clusters = 13, VV score is 0.7726443602345454)\n",
      "For n_clusters = 14, VV score is 0.7773587244544682)\n",
      "For n_clusters = 15, VV score is 0.756045740228847)\n",
      "For n_clusters = 16, VV score is 0.7831816379474585)\n",
      "For n_clusters = 17, VV score is 0.7888806489356324)\n",
      "For n_clusters = 18, VV score is 0.7737353667731948)\n",
      "For n_clusters = 19, VV score is 0.7515039434004452)\n",
      "For n_clusters = 20, VV score is 0.7700832943211088)\n"
     ]
    }
   ],
   "source": [
    "VV_ = []\n",
    "N1 = []\n",
    "for n_clusters in range(2, 21):\n",
    "    clusterer = KMeans(n_clusters=n_clusters).fit(X)\n",
    "    preds = clusterer.predict(X)\n",
    "    centers = clusterer.cluster_centers_\n",
    "\n",
    "    score = VV(preds, y)\n",
    "    print (\"For n_clusters = {}, VV score is {})\".format(n_clusters, score))\n",
    "    VV_.append(score)\n",
    "    N1.append(n_clusters)"
   ]
  },
  {
   "cell_type": "code",
   "execution_count": 41,
   "metadata": {},
   "outputs": [
    {
     "data": {
      "text/plain": [
       "<matplotlib.collections.PathCollection at 0x7f94e02c9c40>"
      ]
     },
     "execution_count": 41,
     "metadata": {},
     "output_type": "execute_result"
    },
    {
     "data": {
      "image/png": "[encoded data removed]",
      "text/plain": [
       "<Figure size 432x288 with 1 Axes>"
      ]
     },
     "metadata": {
      "needs_background": "light"
     },
     "output_type": "display_data"
    }
   ],
   "source": [
    "plt.xlabel('Количество кластеров - AgglomerativeClustering')\n",
    "plt.ylabel('score')\n",
    "plt.scatter(x=N1, c='r', y=score_)"
   ]
  },
  {
   "cell_type": "code",
   "execution_count": 42,
   "metadata": {},
   "outputs": [
    {
     "name": "stdout",
     "output_type": "stream",
     "text": [
      "For n_clusters = 2, VV score is 0.40824218623422054)\n",
      "For n_clusters = 3, VV score is 0.5440613747462535)\n",
      "For n_clusters = 4, VV score is 0.6211638409365546)\n",
      "For n_clusters = 5, VV score is 0.709653527412938)\n",
      "For n_clusters = 6, VV score is 0.7566664944734937)\n",
      "For n_clusters = 7, VV score is 0.7983006479287973)\n",
      "For n_clusters = 8, VV score is 0.8457771039270545)\n",
      "For n_clusters = 9, VV score is 0.8446597933958961)\n",
      "For n_clusters = 10, VV score is 0.8681701126909083)\n",
      "For n_clusters = 11, VV score is 0.8553799643497675)\n",
      "For n_clusters = 12, VV score is 0.86854875186737)\n",
      "For n_clusters = 13, VV score is 0.8571580830709692)\n",
      "For n_clusters = 14, VV score is 0.8517473904948195)\n",
      "For n_clusters = 15, VV score is 0.8401879606185283)\n",
      "For n_clusters = 16, VV score is 0.8321252325100416)\n",
      "For n_clusters = 17, VV score is 0.8383091399615094)\n",
      "For n_clusters = 18, VV score is 0.8271076710894292)\n",
      "For n_clusters = 19, VV score is 0.826280611466587)\n",
      "For n_clusters = 20, VV score is 0.8250943463532207)\n"
     ]
    }
   ],
   "source": [
    "VV_ = []\n",
    "N2 = []\n",
    "for n_clusters in range(2, 21):\n",
    "    preds = AgglomerativeClustering(n_clusters=n_clusters).fit_predict(X)\n",
    "    centers = clusterer.cluster_centers_\n",
    "\n",
    "    score = VV(preds, y)\n",
    "    print (\"For n_clusters = {}, VV score is {})\".format(n_clusters, score))\n",
    "    VV_.append(score)\n",
    "    N2.append(n_clusters)"
   ]
  },
  {
   "cell_type": "code",
   "execution_count": 43,
   "metadata": {},
   "outputs": [
    {
     "data": {
      "text/plain": [
       "<matplotlib.collections.PathCollection at 0x7f94e02af8e0>"
      ]
     },
     "execution_count": 43,
     "metadata": {},
     "output_type": "execute_result"
    },
    {
     "data": {
      "image/png": "[encoded data removed]",
      "text/plain": [
       "<Figure size 432x288 with 1 Axes>"
      ]
     },
     "metadata": {
      "needs_background": "light"
     },
     "output_type": "display_data"
    }
   ],
   "source": [
    "plt.xlabel('Количество кластеров - AgglomerativeClustering')\n",
    "plt.ylabel('score')\n",
    "plt.scatter(x=N2, c='b', y=score_)"
   ]
  },
  {
   "cell_type": "markdown",
   "metadata": {},
   "source": [
    "## 3. Feature space dimensionality reduction\n",
    "\n",
    "In some cases, especially when there are a large number of features, when not all of them are informative, and some of them are correlated, it can be useful to reduce the dimension of the feature space. This mean that instead of $d$ original features, we will go to $d'\\ll d$ new ones. And if earlier our data were presented in the form of an $n×d$ matrix, then it will presented as a $n×d'$.\n",
    "\n",
    "There are two popular dimensionality reduction approaches:\n",
    "- select new features from existing features;\n",
    "- extract the new features by transforming old ones, for example, by making $d'$ different linear combinations of columns of an $n×d$ matrix.\n",
    "\n",
    "One widely used dimensionality reduction technique is the Singular Value Decomposition (SVD). This method allows you to construct any number $d'\\leq d$ of new features in such a way that they are the most informative (in some sense).\n",
    "\n",
    "The `scikit-learn` module has several implementations of singular value decomposition. We will use the `TruncatedSVD` class from the `decomposition` submodule.\n",
    "\n",
    "**Note:** The singular value decomposition of the matrix $M$ is usually written as $M=U \\Sigma V^{*}$. `TruncatedSVD`, in turn, returns only the $d'$ first columns of the matrix $U$."
   ]
  },
  {
   "cell_type": "markdown",
   "metadata": {},
   "source": [
    "**(0.75 point)** Perform a singular value decomposition of the $X$ matrix, leaving 2, 5, 10, 20 features. In each case, perform hierarchical clustering and $K$-Means clustering (take the number of clusters equal to 10). Calculate the silhouette and $V$-score and compare them to corresponding values obtained from the original data.\n",
    "\n",
    "**Note**: It is not valid to compare the silhouette calculated with different metrics. Even if we use the same metric function when calculating the distance between points in the data, after applying dimensionality reduction or other data transformations, we will (not always) get different silhouette scores. Therefore, after training the clustering algorithm, to compare the result of clustering, you need to calculate the silhouette on the original data."
   ]
  },
  {
   "cell_type": "code",
   "execution_count": 44,
   "metadata": {},
   "outputs": [],
   "source": [
    "from sklearn.decomposition import TruncatedSVD\n",
    "from sklearn.cluster import AgglomerativeClustering\n",
    "import numpy as np\n",
    "from sklearn.cluster import KMeans\n",
    "from sklearn.metrics import silhouette_score\n",
    "from sklearn.metrics import accuracy_score"
   ]
  },
  {
   "cell_type": "code",
   "execution_count": 45,
   "metadata": {},
   "outputs": [],
   "source": [
    "TSVD_1 = TruncatedSVD(n_components=2, n_iter=7, random_state=42)\n",
    "TSVD_2 = TruncatedSVD(n_components=5, n_iter=7, random_state=42)\n",
    "TSVD_3 = TruncatedSVD(n_components=10, n_iter=7, random_state=42)\n",
    "TSVD_4 = TruncatedSVD(n_components=20, n_iter=7, random_state=42)"
   ]
  },
  {
   "cell_type": "code",
   "execution_count": 46,
   "metadata": {},
   "outputs": [
    {
     "name": "stdout",
     "output_type": "stream",
     "text": [
      "Silhouette on Kmeans = 0.1825051142742818\n"
     ]
    }
   ],
   "source": [
    "#first\n",
    "clusterer = KMeans(n_clusters=10)\n",
    "preds = clusterer.fit_predict(X)\n",
    "centers = clusterer.cluster_centers_\n",
    "score = silhouette_score(X, preds)\n",
    "\n",
    "TSVD_1 = TruncatedSVD()\n",
    "X_transformed = TSVD_1.fit_transform(X)\n",
    "VT = TSVD_1.components_\n",
    "print(f'Silhouette on Kmeans = {score}')"
   ]
  },
  {
   "cell_type": "code",
   "execution_count": 47,
   "metadata": {},
   "outputs": [],
   "source": [
    "#sc = VV(preds, y)"
   ]
  },
  {
   "cell_type": "code",
   "execution_count": 48,
   "metadata": {},
   "outputs": [
    {
     "name": "stdout",
     "output_type": "stream",
     "text": [
      "Silhouette on Agglomerative = 0.11674033985112256\n"
     ]
    }
   ],
   "source": [
    "clusterer_1 = AgglomerativeClustering().fit(X)\n",
    "preds2 = clusterer_1.fit_predict(X)\n",
    "score = silhouette_score(X, preds2)\n",
    "\n",
    "TSVD_1 = TruncatedSVD()\n",
    "X_transformed2 = TSVD_1.fit_transform(X)\n",
    "VT = TSVD_1.components_\n",
    "print(f'Silhouette on Agglomerative = {score}')"
   ]
  },
  {
   "cell_type": "code",
   "execution_count": 49,
   "metadata": {},
   "outputs": [
    {
     "name": "stdout",
     "output_type": "stream",
     "text": [
      "Silhouette on Kmeans = 0.18208789791526903\n"
     ]
    }
   ],
   "source": [
    "#two \n",
    "X_transformed_2 = TSVD_2.fit_transform(X)\n",
    "clusterer_1 = KMeans(n_clusters=10)\n",
    "preds = clusterer_1.fit_predict(X)\n",
    "centers = clusterer_1.cluster_centers_\n",
    "score = silhouette_score(X, preds)\n",
    "\n",
    "TSVD_2 = TruncatedSVD()\n",
    "X_transformed = TSVD_2.fit_transform(X)\n",
    "VT_2 = TSVD_2.components_\n",
    "print(f'Silhouette on Kmeans = {score}')"
   ]
  },
  {
   "cell_type": "code",
   "execution_count": 50,
   "metadata": {},
   "outputs": [
    {
     "name": "stdout",
     "output_type": "stream",
     "text": [
      "Silhouette on Agglomerative = 0.11674033985112256\n"
     ]
    }
   ],
   "source": [
    "X_transformed_2 = TSVD_2.fit_transform(X)\n",
    "clusterer_2 = AgglomerativeClustering().fit(X)\n",
    "preds = clusterer_2.fit_predict(X)\n",
    "score = silhouette_score(X, preds2)\n",
    "\n",
    "TSVD_2 = TruncatedSVD()\n",
    "X_transformed2 = TSVD_2.fit_transform(X)\n",
    "VT_2 = TSVD_2.components_\n",
    "print(f'Silhouette on Agglomerative = {score}')"
   ]
  },
  {
   "cell_type": "code",
   "execution_count": 51,
   "metadata": {},
   "outputs": [
    {
     "name": "stdout",
     "output_type": "stream",
     "text": [
      "silhouette on Kmeans = 0.164800899045985\n"
     ]
    }
   ],
   "source": [
    "#three\n",
    "X_transformed_3 = TSVD_3.fit_transform(X)\n",
    "VT_3 = TSVD_3.components_\n",
    "clusterer_3 = KMeans(n_clusters=10)\n",
    "preds_3 = clusterer_3.fit_predict(X_transformed_3)\n",
    "centers_3 = clusterer_3.cluster_centers_\n",
    "score_3 = silhouette_score(X_transformed_3, preds)\n",
    "print(f'silhouette on Kmeans = {score_3}')"
   ]
  },
  {
   "cell_type": "code",
   "execution_count": 52,
   "metadata": {},
   "outputs": [
    {
     "name": "stdout",
     "output_type": "stream",
     "text": [
      "Silhouette on Agglomerative = 0.11674033985112256\n"
     ]
    }
   ],
   "source": [
    "X_transformed_3 = TSVD_3.fit_transform(X)\n",
    "cluster_3 = AgglomerativeClustering().fit(X)\n",
    "preds_3 = cluster_3.fit_predict(X)\n",
    "score_3 = silhouette_score(X, preds_3)\n",
    "\n",
    "TSVD_3 = TruncatedSVD()\n",
    "X_transformed3 = TSVD_3.fit_transform(X)\n",
    "VT_3 = TSVD_3.components_\n",
    "print(f'Silhouette on Agglomerative = {score_3}')"
   ]
  },
  {
   "cell_type": "code",
   "execution_count": 53,
   "metadata": {},
   "outputs": [
    {
     "name": "stdout",
     "output_type": "stream",
     "text": [
      "silhouette on Kmeans = 0.21264666286136408\n"
     ]
    }
   ],
   "source": [
    "#four\n",
    "X_transformed_4 = TSVD_4.fit_transform(X)\n",
    "VT_4 = TSVD_4.components_\n",
    "clusterer_4 = KMeans(n_clusters=10)\n",
    "preds_4 = clusterer_4.fit_predict(X_transformed_4)\n",
    "centers_4 = clusterer_4.cluster_centers_\n",
    "score_4 = silhouette_score(X_transformed_4, preds_4)\n",
    "print(f'silhouette on Kmeans = {score_4}')"
   ]
  },
  {
   "cell_type": "code",
   "execution_count": 54,
   "metadata": {},
   "outputs": [
    {
     "name": "stdout",
     "output_type": "stream",
     "text": [
      "Silhouette on Agglomerative = 0.18238681072762378\n"
     ]
    }
   ],
   "source": [
    "X_transform_4 = TSVD_4.fit_transform(X)\n",
    "clust_4 = AgglomerativeClustering().fit(X)\n",
    "pred_4 = clust_4.fit_predict(X)\n",
    "score4 = silhouette_score(X, preds_4)\n",
    "\n",
    "TSVD_4 = TruncatedSVD()\n",
    "X_transformed4 = TSVD_4.fit_transform(X)\n",
    "VT_4 = TSVD_4.components_\n",
    "print(f'Silhouette on Agglomerative = {score4}')"
   ]
  },
  {
   "cell_type": "markdown",
   "metadata": {},
   "source": [
    "Another popular dimensionality reduction approach that is useful for working with images is t-distributed stochastic neighbor embeddings, abbreviated `tSNE`. Unlike singular value decomposition, this it is non-linear transformation. It's main idea is to map points from a space of dimension `d` to another space of dimension 2 or 3 in such a way that the distances between points are mostly preserved. Mathematical details can be found, for example, [here](https://en.wikipedia.org/wiki/T-distributed_stochastic_neighbor_embedding).\n",
    "\n",
    "The implementation of `tSNE` in the `scikit-learn` library is the `TSNE` class in the `manifold` submodule.\n",
    "\n",
    "**Note:** In recent years [UMAP](https://github.com/lmcinnes/umap) is often used istead of `tSNE`. It is a faster algorithm with similar properties. We don't ask you to use `UMAP` because it requires you to install another dependency, the `umap-learn` library. Those who wish can perform the following task using `UMAP`."
   ]
  },
  {
   "cell_type": "markdown",
   "metadata": {},
   "source": [
    "**(0.5 points)** Perform a tSNE-transform of the `X` matrix, leaving 2 features. Visualize the obtained data in the form of a scatter plot form: the first feature on the horizontal axis, and the second one the vertical axis. Color the points according to the digits they belong to.\n",
    "\n",
    "- The `c` parameter in the plt.scatter function is responsible for the color of the points. Pass the true labels to it."
   ]
  },
  {
   "cell_type": "code",
   "execution_count": 55,
   "metadata": {},
   "outputs": [
    {
     "data": {
      "image/png": "[encoded data removed]",
      "text/plain": [
       "<Figure size 1152x432 with 1 Axes>"
      ]
     },
     "metadata": {
      "needs_background": "light"
     },
     "output_type": "display_data"
    }
   ],
   "source": [
    "from sklearn.manifold import TSNE\n",
    "\n",
    "X, y = digits.data, digits.target\n",
    "X_tsne_transformed = TSNE(n_components=2, random_state=15).fit_transform(X)\n",
    "\n",
    "plt.figure(figsize=(16, 6))\n",
    "\n",
    "xdata, ydata = [], []\n",
    "\n",
    "for i in range(X_tsne_transformed.shape[0]):\n",
    "    xdata.append(X_tsne_transformed[i][0])\n",
    "    ydata.append(X_tsne_transformed[i][1])\n",
    "plt.scatter(x=xdata, y=ydata, c=y);"
   ]
  },
  {
   "cell_type": "markdown",
   "metadata": {},
   "source": [
    "**(0.5 points)** From the data transformed using the tSNE, perform hierarchical clustering and $K$-means clustering (take the number of clusters equal to 10). Calculate the silhouette and the $V$-score and compare them to corresponding values obtained from the original data."
   ]
  },
  {
   "cell_type": "code",
   "execution_count": 56,
   "metadata": {},
   "outputs": [
    {
     "name": "stdout",
     "output_type": "stream",
     "text": [
      "KMeans:  0.6364839\n",
      "Hierarhical clustering:  0.63592714\n"
     ]
    }
   ],
   "source": [
    "clustering = AgglomerativeClustering(n_clusters=10).fit(X_tsne_transformed)\n",
    "kmeans = KMeans(n_clusters=10, random_state=42).fit(X_tsne_transformed)\n",
    "\n",
    "print('KMeans: ', silhouette_score(X_tsne_transformed, kmeans.labels_))\n",
    "print('Hierarhical clustering: ', silhouette_score(X_tsne_transformed, clustering.labels_))"
   ]
  },
  {
   "cell_type": "code",
   "execution_count": 57,
   "metadata": {},
   "outputs": [
    {
     "name": "stdout",
     "output_type": "stream",
     "text": [
      "Kmeans:  0.18244258012780126\n",
      "Hierarhical clustering:  0.17849659940596496\n"
     ]
    }
   ],
   "source": [
    "#Силуэт\n",
    "clustering = AgglomerativeClustering(n_clusters=10).fit(X)\n",
    "kmeans = KMeans(n_clusters=10, random_state=42).fit(X)\n",
    "\n",
    "print('Kmeans: ', silhouette_score(X, kmeans.labels_))\n",
    "print('Hierarhical clustering: ', silhouette_score(X, clustering.labels_))"
   ]
  },
  {
   "cell_type": "markdown",
   "metadata": {},
   "source": [
    "**(0.25 points)** Choose the best partition (in terms of silhouette or $V$-score) and visualize the centers of clusters with images. Did you managed to make each digit correspond to one center of the cluster?"
   ]
  },
  {
   "cell_type": "code",
   "execution_count": null,
   "metadata": {},
   "outputs": [],
   "source": []
  },
  {
   "cell_type": "markdown",
   "metadata": {},
   "source": [
    "## 4. Results and bonus part"
   ]
  },
  {
   "cell_type": "markdown",
   "metadata": {},
   "source": [
    "Write in free form what conclusions you made after completing this assignment. Answer the following questions:\n",
    "\n",
    "**(0.5 points)** Which algorithm gives more meaningful results - hierarchical clustering or $K$- means clustering. Does it depend on the algorithm settings or on the quality evaluation method?"
   ]
  },
  {
   "cell_type": "markdown",
   "metadata": {},
   "source": [
    "В нашем случае можно сказать, что и K_Means, и ерархическая кластеризация справились достаточно хорошо. Результат K-means связан с числом итераций, оценки 𝑉-measure и силуэт тоже дают схожие результаты."
   ]
  },
  {
   "cell_type": "markdown",
   "metadata": {},
   "source": [
    "**(0.5 points)** Imagine the situation where after hierarchical clustering, you need to cluster new data in the same way without retraining the model. Suggest a method how you will do it and how you will measure the quality of clustering of new data."
   ]
  },
  {
   "cell_type": "markdown",
   "metadata": {},
   "source": [
    "Можно использовать KNN, затем определить число соседей и далее ориентироваться уже на частоту встречаемости того или иного кластера."
   ]
  },
  {
   "cell_type": "markdown",
   "metadata": {},
   "source": [
    "**(0.5 points)** Does dimensionality reduction improve clustering results?"
   ]
  },
  {
   "cell_type": "markdown",
   "metadata": {},
   "source": [
    "Да, так как основная цель данного метода - это оптимизация модели при слишком большом количестве входных переменных. В случае, когда у нас признаков намного больше, чем наблюдений, мы можем переобучить нашу модель, результаты которой приведут к неверным данным и, соответственно, некорректному поведению нашей модели. В случае с кластеризацией, при большом количестве признаков, разбивать наши наблюдения на кластеры будет тяжело и при высокой размерности наша модель будет думать, что все наблюдения находятся на равном расстоянии друг от друга и это будет негативно сказываться на наших результатах. Если же все наши расстояние будут равны друг другу, то и все наблюдения будут находится в балансе друг с другом, что не приведёт формированию каких-либо осмысленных кластеров."
   ]
  },
  {
   "cell_type": "markdown",
   "metadata": {},
   "source": [
    "**(0.5 points)** How to evaluate the quality of dimensional reduction? Suggest at least 2 options."
   ]
  },
  {
   "cell_type": "markdown",
   "metadata": {},
   "source": [
    "Из самого первого, пришедшего на ум метода - это сравнить долю ошибок до и после уменьшения размерности. \n",
    "Либо следующие техники:\n",
    "1) Feature selection and Feature extraction\n",
    "2) Principal Component Analysis (PCA)\n",
    "3) Random Forests"
   ]
  },
  {
   "cell_type": "markdown",
   "metadata": {},
   "source": [
    "**(Bonus 2 points)** Load the [MNIST Handwritten Digits](http://yann.lecun.com/exdb/mnist) dataset. You can also do it with `scikit-learn` as explained [here](https://stackoverflow.com/a/60450028). Explore the data and try to cluster it using different approaches. Compare results of these approaches using the silhouette and the $V$-score."
   ]
  },
  {
   "cell_type": "code",
   "execution_count": 58,
   "metadata": {},
   "outputs": [],
   "source": [
    "from sklearn.datasets import fetch_openml\n",
    "from sklearn.cluster import AgglomerativeClustering\n",
    "from sklearn.metrics import v_measure_score as VV\n",
    "raw_data, raw_labels = fetch_openml('mnist_784', version=1, return_X_y=True)"
   ]
  },
  {
   "cell_type": "code",
   "execution_count": 59,
   "metadata": {},
   "outputs": [
    {
     "data": {
      "text/html": [
       "<div>\n",
       "<style scoped>\n",
       "    .dataframe tbody tr th:only-of-type {\n",
       "        vertical-align: middle;\n",
       "    }\n",
       "\n",
       "    .dataframe tbody tr th {\n",
       "        vertical-align: top;\n",
       "    }\n",
       "\n",
       "    .dataframe thead th {\n",
       "        text-align: right;\n",
       "    }\n",
       "</style>\n",
       "<table border=\"1\" class=\"dataframe\">\n",
       "  <thead>\n",
       "    <tr style=\"text-align: right;\">\n",
       "      <th></th>\n",
       "      <th>pixel1</th>\n",
       "      <th>pixel2</th>\n",
       "      <th>pixel3</th>\n",
       "      <th>pixel4</th>\n",
       "      <th>pixel5</th>\n",
       "      <th>pixel6</th>\n",
       "      <th>pixel7</th>\n",
       "      <th>pixel8</th>\n",
       "      <th>pixel9</th>\n",
       "      <th>pixel10</th>\n",
       "      <th>...</th>\n",
       "      <th>pixel775</th>\n",
       "      <th>pixel776</th>\n",
       "      <th>pixel777</th>\n",
       "      <th>pixel778</th>\n",
       "      <th>pixel779</th>\n",
       "      <th>pixel780</th>\n",
       "      <th>pixel781</th>\n",
       "      <th>pixel782</th>\n",
       "      <th>pixel783</th>\n",
       "      <th>pixel784</th>\n",
       "    </tr>\n",
       "  </thead>\n",
       "  <tbody>\n",
       "    <tr>\n",
       "      <th>0</th>\n",
       "      <td>0.0</td>\n",
       "      <td>0.0</td>\n",
       "      <td>0.0</td>\n",
       "      <td>0.0</td>\n",
       "      <td>0.0</td>\n",
       "      <td>0.0</td>\n",
       "      <td>0.0</td>\n",
       "      <td>0.0</td>\n",
       "      <td>0.0</td>\n",
       "      <td>0.0</td>\n",
       "      <td>...</td>\n",
       "      <td>0.0</td>\n",
       "      <td>0.0</td>\n",
       "      <td>0.0</td>\n",
       "      <td>0.0</td>\n",
       "      <td>0.0</td>\n",
       "      <td>0.0</td>\n",
       "      <td>0.0</td>\n",
       "      <td>0.0</td>\n",
       "      <td>0.0</td>\n",
       "      <td>0.0</td>\n",
       "    </tr>\n",
       "    <tr>\n",
       "      <th>1</th>\n",
       "      <td>0.0</td>\n",
       "      <td>0.0</td>\n",
       "      <td>0.0</td>\n",
       "      <td>0.0</td>\n",
       "      <td>0.0</td>\n",
       "      <td>0.0</td>\n",
       "      <td>0.0</td>\n",
       "      <td>0.0</td>\n",
       "      <td>0.0</td>\n",
       "      <td>0.0</td>\n",
       "      <td>...</td>\n",
       "      <td>0.0</td>\n",
       "      <td>0.0</td>\n",
       "      <td>0.0</td>\n",
       "      <td>0.0</td>\n",
       "      <td>0.0</td>\n",
       "      <td>0.0</td>\n",
       "      <td>0.0</td>\n",
       "      <td>0.0</td>\n",
       "      <td>0.0</td>\n",
       "      <td>0.0</td>\n",
       "    </tr>\n",
       "    <tr>\n",
       "      <th>2</th>\n",
       "      <td>0.0</td>\n",
       "      <td>0.0</td>\n",
       "      <td>0.0</td>\n",
       "      <td>0.0</td>\n",
       "      <td>0.0</td>\n",
       "      <td>0.0</td>\n",
       "      <td>0.0</td>\n",
       "      <td>0.0</td>\n",
       "      <td>0.0</td>\n",
       "      <td>0.0</td>\n",
       "      <td>...</td>\n",
       "      <td>0.0</td>\n",
       "      <td>0.0</td>\n",
       "      <td>0.0</td>\n",
       "      <td>0.0</td>\n",
       "      <td>0.0</td>\n",
       "      <td>0.0</td>\n",
       "      <td>0.0</td>\n",
       "      <td>0.0</td>\n",
       "      <td>0.0</td>\n",
       "      <td>0.0</td>\n",
       "    </tr>\n",
       "    <tr>\n",
       "      <th>3</th>\n",
       "      <td>0.0</td>\n",
       "      <td>0.0</td>\n",
       "      <td>0.0</td>\n",
       "      <td>0.0</td>\n",
       "      <td>0.0</td>\n",
       "      <td>0.0</td>\n",
       "      <td>0.0</td>\n",
       "      <td>0.0</td>\n",
       "      <td>0.0</td>\n",
       "      <td>0.0</td>\n",
       "      <td>...</td>\n",
       "      <td>0.0</td>\n",
       "      <td>0.0</td>\n",
       "      <td>0.0</td>\n",
       "      <td>0.0</td>\n",
       "      <td>0.0</td>\n",
       "      <td>0.0</td>\n",
       "      <td>0.0</td>\n",
       "      <td>0.0</td>\n",
       "      <td>0.0</td>\n",
       "      <td>0.0</td>\n",
       "    </tr>\n",
       "    <tr>\n",
       "      <th>4</th>\n",
       "      <td>0.0</td>\n",
       "      <td>0.0</td>\n",
       "      <td>0.0</td>\n",
       "      <td>0.0</td>\n",
       "      <td>0.0</td>\n",
       "      <td>0.0</td>\n",
       "      <td>0.0</td>\n",
       "      <td>0.0</td>\n",
       "      <td>0.0</td>\n",
       "      <td>0.0</td>\n",
       "      <td>...</td>\n",
       "      <td>0.0</td>\n",
       "      <td>0.0</td>\n",
       "      <td>0.0</td>\n",
       "      <td>0.0</td>\n",
       "      <td>0.0</td>\n",
       "      <td>0.0</td>\n",
       "      <td>0.0</td>\n",
       "      <td>0.0</td>\n",
       "      <td>0.0</td>\n",
       "      <td>0.0</td>\n",
       "    </tr>\n",
       "    <tr>\n",
       "      <th>...</th>\n",
       "      <td>...</td>\n",
       "      <td>...</td>\n",
       "      <td>...</td>\n",
       "      <td>...</td>\n",
       "      <td>...</td>\n",
       "      <td>...</td>\n",
       "      <td>...</td>\n",
       "      <td>...</td>\n",
       "      <td>...</td>\n",
       "      <td>...</td>\n",
       "      <td>...</td>\n",
       "      <td>...</td>\n",
       "      <td>...</td>\n",
       "      <td>...</td>\n",
       "      <td>...</td>\n",
       "      <td>...</td>\n",
       "      <td>...</td>\n",
       "      <td>...</td>\n",
       "      <td>...</td>\n",
       "      <td>...</td>\n",
       "      <td>...</td>\n",
       "    </tr>\n",
       "    <tr>\n",
       "      <th>69995</th>\n",
       "      <td>0.0</td>\n",
       "      <td>0.0</td>\n",
       "      <td>0.0</td>\n",
       "      <td>0.0</td>\n",
       "      <td>0.0</td>\n",
       "      <td>0.0</td>\n",
       "      <td>0.0</td>\n",
       "      <td>0.0</td>\n",
       "      <td>0.0</td>\n",
       "      <td>0.0</td>\n",
       "      <td>...</td>\n",
       "      <td>0.0</td>\n",
       "      <td>0.0</td>\n",
       "      <td>0.0</td>\n",
       "      <td>0.0</td>\n",
       "      <td>0.0</td>\n",
       "      <td>0.0</td>\n",
       "      <td>0.0</td>\n",
       "      <td>0.0</td>\n",
       "      <td>0.0</td>\n",
       "      <td>0.0</td>\n",
       "    </tr>\n",
       "    <tr>\n",
       "      <th>69996</th>\n",
       "      <td>0.0</td>\n",
       "      <td>0.0</td>\n",
       "      <td>0.0</td>\n",
       "      <td>0.0</td>\n",
       "      <td>0.0</td>\n",
       "      <td>0.0</td>\n",
       "      <td>0.0</td>\n",
       "      <td>0.0</td>\n",
       "      <td>0.0</td>\n",
       "      <td>0.0</td>\n",
       "      <td>...</td>\n",
       "      <td>0.0</td>\n",
       "      <td>0.0</td>\n",
       "      <td>0.0</td>\n",
       "      <td>0.0</td>\n",
       "      <td>0.0</td>\n",
       "      <td>0.0</td>\n",
       "      <td>0.0</td>\n",
       "      <td>0.0</td>\n",
       "      <td>0.0</td>\n",
       "      <td>0.0</td>\n",
       "    </tr>\n",
       "    <tr>\n",
       "      <th>69997</th>\n",
       "      <td>0.0</td>\n",
       "      <td>0.0</td>\n",
       "      <td>0.0</td>\n",
       "      <td>0.0</td>\n",
       "      <td>0.0</td>\n",
       "      <td>0.0</td>\n",
       "      <td>0.0</td>\n",
       "      <td>0.0</td>\n",
       "      <td>0.0</td>\n",
       "      <td>0.0</td>\n",
       "      <td>...</td>\n",
       "      <td>0.0</td>\n",
       "      <td>0.0</td>\n",
       "      <td>0.0</td>\n",
       "      <td>0.0</td>\n",
       "      <td>0.0</td>\n",
       "      <td>0.0</td>\n",
       "      <td>0.0</td>\n",
       "      <td>0.0</td>\n",
       "      <td>0.0</td>\n",
       "      <td>0.0</td>\n",
       "    </tr>\n",
       "    <tr>\n",
       "      <th>69998</th>\n",
       "      <td>0.0</td>\n",
       "      <td>0.0</td>\n",
       "      <td>0.0</td>\n",
       "      <td>0.0</td>\n",
       "      <td>0.0</td>\n",
       "      <td>0.0</td>\n",
       "      <td>0.0</td>\n",
       "      <td>0.0</td>\n",
       "      <td>0.0</td>\n",
       "      <td>0.0</td>\n",
       "      <td>...</td>\n",
       "      <td>0.0</td>\n",
       "      <td>0.0</td>\n",
       "      <td>0.0</td>\n",
       "      <td>0.0</td>\n",
       "      <td>0.0</td>\n",
       "      <td>0.0</td>\n",
       "      <td>0.0</td>\n",
       "      <td>0.0</td>\n",
       "      <td>0.0</td>\n",
       "      <td>0.0</td>\n",
       "    </tr>\n",
       "    <tr>\n",
       "      <th>69999</th>\n",
       "      <td>0.0</td>\n",
       "      <td>0.0</td>\n",
       "      <td>0.0</td>\n",
       "      <td>0.0</td>\n",
       "      <td>0.0</td>\n",
       "      <td>0.0</td>\n",
       "      <td>0.0</td>\n",
       "      <td>0.0</td>\n",
       "      <td>0.0</td>\n",
       "      <td>0.0</td>\n",
       "      <td>...</td>\n",
       "      <td>0.0</td>\n",
       "      <td>0.0</td>\n",
       "      <td>0.0</td>\n",
       "      <td>0.0</td>\n",
       "      <td>0.0</td>\n",
       "      <td>0.0</td>\n",
       "      <td>0.0</td>\n",
       "      <td>0.0</td>\n",
       "      <td>0.0</td>\n",
       "      <td>0.0</td>\n",
       "    </tr>\n",
       "  </tbody>\n",
       "</table>\n",
       "<p>70000 rows × 784 columns</p>\n",
       "</div>"
      ],
      "text/plain": [
       "       pixel1  pixel2  pixel3  pixel4  pixel5  pixel6  pixel7  pixel8  pixel9  \\\n",
       "0         0.0     0.0     0.0     0.0     0.0     0.0     0.0     0.0     0.0   \n",
       "1         0.0     0.0     0.0     0.0     0.0     0.0     0.0     0.0     0.0   \n",
       "2         0.0     0.0     0.0     0.0     0.0     0.0     0.0     0.0     0.0   \n",
       "3         0.0     0.0     0.0     0.0     0.0     0.0     0.0     0.0     0.0   \n",
       "4         0.0     0.0     0.0     0.0     0.0     0.0     0.0     0.0     0.0   \n",
       "...       ...     ...     ...     ...     ...     ...     ...     ...     ...   \n",
       "69995     0.0     0.0     0.0     0.0     0.0     0.0     0.0     0.0     0.0   \n",
       "69996     0.0     0.0     0.0     0.0     0.0     0.0     0.0     0.0     0.0   \n",
       "69997     0.0     0.0     0.0     0.0     0.0     0.0     0.0     0.0     0.0   \n",
       "69998     0.0     0.0     0.0     0.0     0.0     0.0     0.0     0.0     0.0   \n",
       "69999     0.0     0.0     0.0     0.0     0.0     0.0     0.0     0.0     0.0   \n",
       "\n",
       "       pixel10  ...  pixel775  pixel776  pixel777  pixel778  pixel779  \\\n",
       "0          0.0  ...       0.0       0.0       0.0       0.0       0.0   \n",
       "1          0.0  ...       0.0       0.0       0.0       0.0       0.0   \n",
       "2          0.0  ...       0.0       0.0       0.0       0.0       0.0   \n",
       "3          0.0  ...       0.0       0.0       0.0       0.0       0.0   \n",
       "4          0.0  ...       0.0       0.0       0.0       0.0       0.0   \n",
       "...        ...  ...       ...       ...       ...       ...       ...   \n",
       "69995      0.0  ...       0.0       0.0       0.0       0.0       0.0   \n",
       "69996      0.0  ...       0.0       0.0       0.0       0.0       0.0   \n",
       "69997      0.0  ...       0.0       0.0       0.0       0.0       0.0   \n",
       "69998      0.0  ...       0.0       0.0       0.0       0.0       0.0   \n",
       "69999      0.0  ...       0.0       0.0       0.0       0.0       0.0   \n",
       "\n",
       "       pixel780  pixel781  pixel782  pixel783  pixel784  \n",
       "0           0.0       0.0       0.0       0.0       0.0  \n",
       "1           0.0       0.0       0.0       0.0       0.0  \n",
       "2           0.0       0.0       0.0       0.0       0.0  \n",
       "3           0.0       0.0       0.0       0.0       0.0  \n",
       "4           0.0       0.0       0.0       0.0       0.0  \n",
       "...         ...       ...       ...       ...       ...  \n",
       "69995       0.0       0.0       0.0       0.0       0.0  \n",
       "69996       0.0       0.0       0.0       0.0       0.0  \n",
       "69997       0.0       0.0       0.0       0.0       0.0  \n",
       "69998       0.0       0.0       0.0       0.0       0.0  \n",
       "69999       0.0       0.0       0.0       0.0       0.0  \n",
       "\n",
       "[70000 rows x 784 columns]"
      ]
     },
     "execution_count": 59,
     "metadata": {},
     "output_type": "execute_result"
    }
   ],
   "source": [
    "raw_data"
   ]
  },
  {
   "cell_type": "code",
   "execution_count": 60,
   "metadata": {},
   "outputs": [
    {
     "data": {
      "text/plain": [
       "0        5\n",
       "1        0\n",
       "2        4\n",
       "3        1\n",
       "4        9\n",
       "        ..\n",
       "69995    2\n",
       "69996    3\n",
       "69997    4\n",
       "69998    5\n",
       "69999    6\n",
       "Name: class, Length: 70000, dtype: category\n",
       "Categories (10, object): ['0', '1', '2', '3', ..., '6', '7', '8', '9']"
      ]
     },
     "execution_count": 60,
     "metadata": {},
     "output_type": "execute_result"
    }
   ],
   "source": [
    "raw_labels"
   ]
  },
  {
   "cell_type": "code",
   "execution_count": 61,
   "metadata": {},
   "outputs": [],
   "source": [
    "n_samples = 10_000\n",
    "data = raw_data[:n_samples]\n",
    "labels = raw_labels[:n_samples]"
   ]
  },
  {
   "cell_type": "code",
   "execution_count": 62,
   "metadata": {},
   "outputs": [],
   "source": [
    "data = data / 255.\n",
    "labels = labels.astype('int')\n",
    "images = data.values.reshape(data.shape[0], 28, 28)"
   ]
  },
  {
   "cell_type": "code",
   "execution_count": 63,
   "metadata": {},
   "outputs": [
    {
     "data": {
      "image/png": "[encoded data removed]",
      "text/plain": [
       "<Figure size 576x576 with 4 Axes>"
      ]
     },
     "metadata": {
      "needs_background": "light"
     },
     "output_type": "display_data"
    }
   ],
   "source": [
    "plt.figure(figsize=(8,8))\n",
    "for i in range(4):\n",
    "    plt.subplot(2,2,i+1)\n",
    "    plt.imshow(images[i])\n",
    "    plt.title('truth: {}'.format(labels[i]))"
   ]
  },
  {
   "cell_type": "code",
   "execution_count": 64,
   "metadata": {},
   "outputs": [
    {
     "name": "stdout",
     "output_type": "stream",
     "text": [
      "For n_clusters = 2, silhouette score is 0.09083133001699314)\n",
      "For n_clusters = 3, silhouette score is 0.058426422228165686)\n",
      "For n_clusters = 4, silhouette score is 0.06328803764922443)\n",
      "For n_clusters = 5, silhouette score is 0.07204616392915617)\n",
      "For n_clusters = 6, silhouette score is 0.06945614705236872)\n",
      "For n_clusters = 7, silhouette score is 0.07530321011406084)\n",
      "For n_clusters = 8, silhouette score is 0.07801799308933219)\n",
      "For n_clusters = 9, silhouette score is 0.062169956961830086)\n",
      "For n_clusters = 10, silhouette score is 0.062157415835137224)\n",
      "For n_clusters = 11, silhouette score is 0.06298211925241914)\n",
      "For n_clusters = 12, silhouette score is 0.06290806798330704)\n",
      "For n_clusters = 13, silhouette score is 0.06465709791678761)\n",
      "For n_clusters = 14, silhouette score is 0.06815241999879111)\n",
      "For n_clusters = 15, silhouette score is 0.06733534423145769)\n",
      "For n_clusters = 16, silhouette score is 0.06862984804631797)\n",
      "For n_clusters = 17, silhouette score is 0.07177772963891846)\n",
      "For n_clusters = 18, silhouette score is 0.07249013739337772)\n",
      "For n_clusters = 19, silhouette score is 0.07296266978599027)\n",
      "For n_clusters = 20, silhouette score is 0.0729346069435113)\n"
     ]
    }
   ],
   "source": [
    "#Kmeans\n",
    "score_VV_1 = []\n",
    "N = []\n",
    "for n_clusters in range(2, 21):\n",
    "    clusterer = KMeans(n_clusters=n_clusters).fit(data)\n",
    "    preds = clusterer.predict(data)\n",
    "    centers = clusterer.cluster_centers_\n",
    "\n",
    "    score = silhouette_score (data, preds, metric='euclidean')\n",
    "    print (\"For n_clusters = {}, silhouette score is {})\".format(n_clusters, score))\n",
    "    score_VV_1.append(score)\n",
    "    N.append(n_clusters)"
   ]
  },
  {
   "cell_type": "code",
   "execution_count": 65,
   "metadata": {},
   "outputs": [],
   "source": [
    "X_x = score_VV_1"
   ]
  },
  {
   "cell_type": "code",
   "execution_count": 66,
   "metadata": {},
   "outputs": [
    {
     "data": {
      "text/plain": [
       "<matplotlib.collections.PathCollection at 0x7f94e0199070>"
      ]
     },
     "execution_count": 66,
     "metadata": {},
     "output_type": "execute_result"
    },
    {
     "data": {
      "image/png": "[encoded data removed]",
      "text/plain": [
       "<Figure size 432x288 with 1 Axes>"
      ]
     },
     "metadata": {
      "needs_background": "light"
     },
     "output_type": "display_data"
    }
   ],
   "source": [
    "#plot Kmeans\n",
    "plt.xlabel('Количество кластеров')\n",
    "plt.ylabel('score')\n",
    "plt.scatter(x=N, c='b', y=score_VV_1)"
   ]
  },
  {
   "cell_type": "code",
   "execution_count": 67,
   "metadata": {},
   "outputs": [
    {
     "name": "stdout",
     "output_type": "stream",
     "text": [
      "For n_clusters = 2, VV score is 0.40824218623422054)\n",
      "For n_clusters = 3, VV score is 0.5440613747462535)\n",
      "For n_clusters = 4, VV score is 0.6211638409365546)\n",
      "For n_clusters = 5, VV score is 0.709653527412938)\n",
      "For n_clusters = 6, VV score is 0.7566664944734937)\n",
      "For n_clusters = 7, VV score is 0.7983006479287973)\n",
      "For n_clusters = 8, VV score is 0.8457771039270545)\n",
      "For n_clusters = 9, VV score is 0.8446597933958961)\n",
      "For n_clusters = 10, VV score is 0.8681701126909083)\n",
      "For n_clusters = 11, VV score is 0.8553799643497675)\n",
      "For n_clusters = 12, VV score is 0.86854875186737)\n",
      "For n_clusters = 13, VV score is 0.8571580830709692)\n",
      "For n_clusters = 14, VV score is 0.8517473904948195)\n",
      "For n_clusters = 15, VV score is 0.8401879606185283)\n",
      "For n_clusters = 16, VV score is 0.8321252325100416)\n",
      "For n_clusters = 17, VV score is 0.8383091399615094)\n",
      "For n_clusters = 18, VV score is 0.8271076710894292)\n",
      "For n_clusters = 19, VV score is 0.826280611466587)\n",
      "For n_clusters = 20, VV score is 0.8250943463532207)\n"
     ]
    }
   ],
   "source": [
    "#AgglomerativeClustering\n",
    "score_VV_2 = []\n",
    "N = []\n",
    "for n_clusters in range(2, 21):\n",
    "    preds = AgglomerativeClustering(n_clusters=n_clusters).fit_predict(X)\n",
    "    centers = clusterer.cluster_centers_\n",
    "\n",
    "    score = VV(preds, y)\n",
    "    print (\"For n_clusters = {}, VV score is {})\".format(n_clusters, score))\n",
    "    score_VV_2.append(score)\n",
    "    N.append(n_clusters)"
   ]
  },
  {
   "cell_type": "code",
   "execution_count": 68,
   "metadata": {},
   "outputs": [],
   "source": [
    "Y_y = score_VV_2"
   ]
  },
  {
   "cell_type": "code",
   "execution_count": 69,
   "metadata": {},
   "outputs": [
    {
     "data": {
      "text/plain": [
       "<matplotlib.collections.PathCollection at 0x7f94be0ae8b0>"
      ]
     },
     "execution_count": 69,
     "metadata": {},
     "output_type": "execute_result"
    },
    {
     "data": {
      "image/png": "[encoded data removed]",
      "text/plain": [
       "<Figure size 432x288 with 1 Axes>"
      ]
     },
     "metadata": {
      "needs_background": "light"
     },
     "output_type": "display_data"
    }
   ],
   "source": [
    "plt.xlabel('Количество кластеров')\n",
    "plt.ylabel('score')\n",
    "plt.scatter(x=N, y=score_VV_2)"
   ]
  },
  {
   "cell_type": "code",
   "execution_count": 70,
   "metadata": {},
   "outputs": [
    {
     "data": {
      "image/png": "[encoded data removed]",
      "text/plain": [
       "<Figure size 432x288 with 1 Axes>"
      ]
     },
     "metadata": {
      "needs_background": "light"
     },
     "output_type": "display_data"
    }
   ],
   "source": [
    "#plot\n",
    "plt.scatter(X_x, N, marker='^')\n",
    "plt.scatter(Y_y, N, marker='x')\n",
    "\n",
    "plt.show()"
   ]
  },
  {
   "cell_type": "code",
   "execution_count": 73,
   "metadata": {},
   "outputs": [
    {
     "name": "stdout",
     "output_type": "stream",
     "text": [
      "Силуэт-score: 0.2260586563176692\n"
     ]
    }
   ],
   "source": [
    "#SVD\n",
    "model_svd = TruncatedSVD(10, n_iter=2)\n",
    "X_svd = model_svd.fit_transform(X)\n",
    "y_km_svd_pred = clusterer.fit_predict(X_svd)\n",
    "\n",
    "print(f\"Силуэт-score: {silhouette_score(X_svd, y_km_svd_pred)}\")"
   ]
  }
 ],
 "metadata": {
  "kernelspec": {
   "display_name": "Python 3",
   "language": "python",
   "name": "python3"
  },
  "language_info": {
   "codemirror_mode": {
    "name": "ipython",
    "version": 3
   },
   "file_extension": ".py",
   "mimetype": "text/x-python",
   "name": "python",
   "nbconvert_exporter": "python",
   "pygments_lexer": "ipython3",
   "version": "3.8.8"
  }
 },
 "nbformat": 4,
 "nbformat_minor": 4
}
